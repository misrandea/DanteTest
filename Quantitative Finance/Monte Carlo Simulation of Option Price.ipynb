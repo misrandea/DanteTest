{
 "cells": [
  {
   "cell_type": "code",
   "execution_count": 7,
   "id": "2f2aee9f",
   "metadata": {},
   "outputs": [],
   "source": [
    "import math\n",
    "from scipy.stats import norm\n",
    "import numpy as np\n",
    "from matplotlib import pyplot as plt"
   ]
  },
  {
   "cell_type": "code",
   "execution_count": 8,
   "id": "14f2a41b",
   "metadata": {},
   "outputs": [
    {
     "data": {
      "image/png": "[encoded data removed]",
      "text/plain": [
       "<Figure size 432x288 with 1 Axes>"
      ]
     },
     "metadata": {
      "needs_background": "light"
     },
     "output_type": "display_data"
    }
   ],
   "source": [
    "M = np.multiply(1000,[1,2,4,8,16,32,64,128, 256], dtype=object) # number of simulations\n",
    "delts = np.multiply(1/250,[5, 2.5, 1]) # time steps (in financial year)\n",
    "sigma = 0.25 # volatility\n",
    "r = 0.05 # risk-free rate\n",
    "T = 1 # Time to expiry\n",
    "K = 100 # strike price\n",
    "S_init = 100 # initial asset price\n",
    "\n",
    "np.random.seed(100)\n",
    "\n",
    "\n",
    "for d in np.arange(np.size(delts)):\n",
    "    delt = delts[d]\n",
    "    drift = r*delt\n",
    "    sigma_sqrt_delt = sigma*math.sqrt(delt)\n",
    "    N = T/delt\n",
    "    V = np.zeros(np.size(M)) # non-arbitrage value of option\n",
    "    sd1 = np.zeros(np.size(M))\n",
    "    for m in np.arange(np.size(M)):\n",
    "        N_sim = M[m]\n",
    "        S = np.ones(N_sim)*S_init\n",
    "        call_payoff = np.zeros(N_sim)\n",
    "        for i in np.arange(N): #timestep loop\n",
    "            S = S + S*(drift + sigma_sqrt_delt* np.random.normal(0,1, N_sim))\n",
    "            S[S<0] = 0 # check to ensure S cannot be < 0\n",
    "        call_payoff = S-K\n",
    "        call_payoff[call_payoff<0] = 0\n",
    "        V[m] = math.exp(-r*T) * sum(call_payoff)/N_sim\n",
    "        if d==0:\n",
    "            sd1[m] = sum((call_payoff*math.exp(-r*T)-V[m])**2/(N_sim-1))**(1/2) \n",
    "    if d==0 :\n",
    "        V1 = V\n",
    "        upper = V1 + 1.96*sd1/math.sqrt(M[0])\n",
    "        lower = V1 - 1.96*sd1/math.sqrt(M[0])\n",
    "        price = blsprice(S_init, K, r, T, sigma)[0]\n",
    "        \n",
    "    plt.plot(M, V)\n",
    "    plt.legend(delts, title='time steps')\n"
   ]
  },
  {
   "cell_type": "markdown",
   "id": "0b03f2fa",
   "metadata": {},
   "source": [
    "Observe the plot above, we conclude that the pay-off of a call options is more volatile with shorter time steps $\\Delta t$ and smaller number of simulations $M$. As the number of simulation increases, the option value obtained using Monte Carlo Simulation coverge with all different time steps."
   ]
  },
  {
   "cell_type": "code",
   "execution_count": 6,
   "id": "393ca89c",
   "metadata": {},
   "outputs": [
    {
     "data": {
      "text/html": [
       "<style type=\"text/css\">\n",
       "</style>\n",
       "<table id=\"T_b07c0_\">\n",
       "  <thead>\n",
       "    <tr>\n",
       "      <th class=\"col_heading level0 col0\" >M</th>\n",
       "      <th class=\"col_heading level0 col1\" >estimated option value</th>\n",
       "      <th class=\"col_heading level0 col2\" >lower bound of 95% CI</th>\n",
       "      <th class=\"col_heading level0 col3\" >upper bound of 95% CI</th>\n",
       "    </tr>\n",
       "  </thead>\n",
       "  <tbody>\n",
       "    <tr>\n",
       "      <td id=\"T_b07c0_row0_col0\" class=\"data row0 col0\" >1000</td>\n",
       "      <td id=\"T_b07c0_row0_col1\" class=\"data row0 col1\" >12.833109</td>\n",
       "      <td id=\"T_b07c0_row0_col2\" class=\"data row0 col2\" >11.619732</td>\n",
       "      <td id=\"T_b07c0_row0_col3\" class=\"data row0 col3\" >14.046485</td>\n",
       "    </tr>\n",
       "    <tr>\n",
       "      <td id=\"T_b07c0_row1_col0\" class=\"data row1 col0\" >2000</td>\n",
       "      <td id=\"T_b07c0_row1_col1\" class=\"data row1 col1\" >12.799095</td>\n",
       "      <td id=\"T_b07c0_row1_col2\" class=\"data row1 col2\" >11.614505</td>\n",
       "      <td id=\"T_b07c0_row1_col3\" class=\"data row1 col3\" >13.983684</td>\n",
       "    </tr>\n",
       "    <tr>\n",
       "      <td id=\"T_b07c0_row2_col0\" class=\"data row2 col0\" >4000</td>\n",
       "      <td id=\"T_b07c0_row2_col1\" class=\"data row2 col1\" >12.643380</td>\n",
       "      <td id=\"T_b07c0_row2_col2\" class=\"data row2 col2\" >11.477161</td>\n",
       "      <td id=\"T_b07c0_row2_col3\" class=\"data row2 col3\" >13.809599</td>\n",
       "    </tr>\n",
       "    <tr>\n",
       "      <td id=\"T_b07c0_row3_col0\" class=\"data row3 col0\" >8000</td>\n",
       "      <td id=\"T_b07c0_row3_col1\" class=\"data row3 col1\" >12.524763</td>\n",
       "      <td id=\"T_b07c0_row3_col2\" class=\"data row3 col2\" >11.349100</td>\n",
       "      <td id=\"T_b07c0_row3_col3\" class=\"data row3 col3\" >13.700425</td>\n",
       "    </tr>\n",
       "    <tr>\n",
       "      <td id=\"T_b07c0_row4_col0\" class=\"data row4 col0\" >16000</td>\n",
       "      <td id=\"T_b07c0_row4_col1\" class=\"data row4 col1\" >12.126628</td>\n",
       "      <td id=\"T_b07c0_row4_col2\" class=\"data row4 col2\" >10.986548</td>\n",
       "      <td id=\"T_b07c0_row4_col3\" class=\"data row4 col3\" >13.266709</td>\n",
       "    </tr>\n",
       "    <tr>\n",
       "      <td id=\"T_b07c0_row5_col0\" class=\"data row5 col0\" >32000</td>\n",
       "      <td id=\"T_b07c0_row5_col1\" class=\"data row5 col1\" >12.284757</td>\n",
       "      <td id=\"T_b07c0_row5_col2\" class=\"data row5 col2\" >11.147138</td>\n",
       "      <td id=\"T_b07c0_row5_col3\" class=\"data row5 col3\" >13.422376</td>\n",
       "    </tr>\n",
       "    <tr>\n",
       "      <td id=\"T_b07c0_row6_col0\" class=\"data row6 col0\" >64000</td>\n",
       "      <td id=\"T_b07c0_row6_col1\" class=\"data row6 col1\" >12.411365</td>\n",
       "      <td id=\"T_b07c0_row6_col2\" class=\"data row6 col2\" >11.266180</td>\n",
       "      <td id=\"T_b07c0_row6_col3\" class=\"data row6 col3\" >13.556550</td>\n",
       "    </tr>\n",
       "    <tr>\n",
       "      <td id=\"T_b07c0_row7_col0\" class=\"data row7 col0\" >128000</td>\n",
       "      <td id=\"T_b07c0_row7_col1\" class=\"data row7 col1\" >12.316945</td>\n",
       "      <td id=\"T_b07c0_row7_col2\" class=\"data row7 col2\" >11.173567</td>\n",
       "      <td id=\"T_b07c0_row7_col3\" class=\"data row7 col3\" >13.460323</td>\n",
       "    </tr>\n",
       "    <tr>\n",
       "      <td id=\"T_b07c0_row8_col0\" class=\"data row8 col0\" >256000</td>\n",
       "      <td id=\"T_b07c0_row8_col1\" class=\"data row8 col1\" >12.274743</td>\n",
       "      <td id=\"T_b07c0_row8_col2\" class=\"data row8 col2\" >11.135530</td>\n",
       "      <td id=\"T_b07c0_row8_col3\" class=\"data row8 col3\" >13.413956</td>\n",
       "    </tr>\n",
       "    <tr>\n",
       "      <td id=\"T_b07c0_row9_col0\" class=\"data row9 col0\" >blsprice</td>\n",
       "      <td id=\"T_b07c0_row9_col1\" class=\"data row9 col1\" >12.335999</td>\n",
       "      <td id=\"T_b07c0_row9_col2\" class=\"data row9 col2\" ></td>\n",
       "      <td id=\"T_b07c0_row9_col3\" class=\"data row9 col3\" ></td>\n",
       "    </tr>\n",
       "  </tbody>\n",
       "</table>\n"
      ],
      "text/plain": [
       "<pandas.io.formats.style.Styler at 0x7fe990e75460>"
      ]
     },
     "metadata": {},
     "output_type": "display_data"
    }
   ],
   "source": [
    "import pandas as pd\n",
    "\n",
    "data  = np.transpose([M,V1,lower,upper])\n",
    "\n",
    "dfsbc = pd.DataFrame(data,columns=[\"M\",\"estimated option value\",\"lower bound of 95% CI\",\"upper bound of 95% CI\"])\n",
    "\n",
    "dfsbc = dfsbc.append({\"M\" : 'blsprice',\n",
    "                       \"estimated option value\" : price,\n",
    "                     \"upper bound of 95% CI\":\"\",\n",
    "                      \"lower bound of 95% CI\":\"\"} , \n",
    "                      ignore_index=True)\n",
    "display(dfsbc.style.hide_index())  "
   ]
  },
  {
   "cell_type": "code",
   "execution_count": null,
   "id": "8307587c",
   "metadata": {},
   "outputs": [],
   "source": []
  }
 ],
 "metadata": {
  "kernelspec": {
   "display_name": "Python 3 (ipykernel)",
   "language": "python",
   "name": "python3"
  },
  "language_info": {
   "codemirror_mode": {
    "name": "ipython",
    "version": 3
   },
   "file_extension": ".py",
   "mimetype": "text/x-python",
   "name": "python",
   "nbconvert_exporter": "python",
   "pygments_lexer": "ipython3",
   "version": "3.9.7"
  }
 },
 "nbformat": 4,
 "nbformat_minor": 5
}
